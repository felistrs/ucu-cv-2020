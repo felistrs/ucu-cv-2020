{
 "metadata": {
  "language_info": {
   "codemirror_mode": {
    "name": "ipython",
    "version": 3
   },
   "file_extension": ".py",
   "mimetype": "text/x-python",
   "name": "python",
   "nbconvert_exporter": "python",
   "pygments_lexer": "ipython3",
   "version": "3.6.9-final"
  },
  "orig_nbformat": 2,
  "kernelspec": {
   "name": "python36964bite01793b2d6b9477da4dc03ea6e4ad5c0",
   "display_name": "Python 3.6.9 64-bit"
  }
 },
 "nbformat": 4,
 "nbformat_minor": 2,
 "cells": [
  {
   "cell_type": "code",
   "execution_count": null,
   "metadata": {},
   "outputs": [],
   "source": [
    "import math\n",
    "\n",
    "# python3 -m pip install opencv-python\n",
    "import cv2 # opencv\n",
    "import numpy as np\n",
    "\n",
    "from scipy.signal import convolve2d\n",
    "from scipy.ndimage.filters import gaussian_filter\n",
    "\n",
    "import matplotlib.pyplot as plt\n",
    "import matplotlib.image as mpimg\n",
    "from mpl_toolkits.axes_grid1 import make_axes_locatable"
   ]
  },
  {
   "cell_type": "code",
   "execution_count": null,
   "metadata": {},
   "outputs": [],
   "source": [
    "def imshow_with_colorbar(index, img):\n",
    "    plt.figure(index)\n",
    "    ax = plt.subplot(111)\n",
    "    im = ax.imshow(img)\n",
    "    divider = make_axes_locatable(ax)\n",
    "    cax = divider.append_axes(\"right\", size=\"5%\", pad=0.05)\n",
    "    plt.colorbar(im, cax=cax)"
   ]
  },
  {
   "cell_type": "markdown",
   "metadata": {},
   "source": [
    "# 3.1 Blob detection"
   ]
  },
  {
   "cell_type": "code",
   "execution_count": null,
   "metadata": {},
   "outputs": [],
   "source": [
    "img = cv2.imread('../images/sunflowers_small.jpg', cv2.IMREAD_GRAYSCALE)\n",
    "\n",
    "plt.imshow(img, cmap='gray')"
   ]
  },
  {
   "cell_type": "code",
   "execution_count": null,
   "metadata": {},
   "outputs": [],
   "source": [
    "kernel = [\n",
    "    [ 1,  1,  1],\n",
    "    [ 1, -8,  1],\n",
    "    [ 1,  1,  1],\n",
    "]\n",
    "img_c = convolve2d(img, kernel, mode='valid')\n",
    "imshow_with_colorbar(1, img_c)\n",
    "imshow_with_colorbar(2, img_c[15:40,25:50])"
   ]
  },
  {
   "cell_type": "markdown",
   "metadata": {},
   "source": [
    "# 3.2 Blob detection - Laplacian of Gaussian"
   ]
  },
  {
   "cell_type": "code",
   "execution_count": null,
   "metadata": {},
   "outputs": [],
   "source": [
    "def generate_LoG_kernel(sz, sigma):\n",
    "    def LoG(x, y, sigma):\n",
    "        return ((x**2+y**2-2*sigma**2)/sigma**4)*math.exp(-1*(x**2+y**2)/(2*sigma**2))\n",
    "\n",
    "    dsz = sz/2 - 1\n",
    "\n",
    "    res = np.zeros((sz, sz), dtype=np.float)\n",
    "    for y in range(sz):\n",
    "        for x in range(sz):\n",
    "            res[y,x] = LoG(x - dsz, y - dsz, sigma)\n",
    "    return res\n",
    "\n",
    "log_kernel = generate_LoG_kernel(31, 4)\n",
    "imshow_with_colorbar(1, log_kernel)\n",
    "\n",
    "log_kernel_2 = generate_LoG_kernel(31, 6)\n",
    "imshow_with_colorbar(2, log_kernel_2)"
   ]
  },
  {
   "cell_type": "code",
   "execution_count": null,
   "metadata": {},
   "outputs": [],
   "source": [
    "img = cv2.imread('../images/sunflowers_small.jpg', cv2.IMREAD_GRAYSCALE)\n",
    "\n",
    "log_kernel_1 = generate_LoG_kernel(31, 1)\n",
    "img_c_1 = convolve2d(img, log_kernel_1, mode='valid')\n",
    "imshow_with_colorbar(1, img_c_1)\n",
    "\n",
    "log_kernel_2 = generate_LoG_kernel(31, 2)\n",
    "img_c_2 = convolve2d(img, log_kernel_2, mode='valid')\n",
    "imshow_with_colorbar(2, img_c_2)\n",
    "\n",
    "log_kernel_3 = generate_LoG_kernel(31, 3)\n",
    "img_c_3 = convolve2d(img, log_kernel_3, mode='valid')\n",
    "imshow_with_colorbar(3, img_c_3)"
   ]
  },
  {
   "cell_type": "markdown",
   "metadata": {},
   "source": [
    "# 3.3 FAST features"
   ]
  },
  {
   "cell_type": "code",
   "execution_count": null,
   "metadata": {
    "tags": []
   },
   "outputs": [],
   "source": [
    "img = cv2.imread('../images/lenna.png', cv2.IMREAD_GRAYSCALE)\n",
    "ff_detector = cv2.FastFeatureDetector_create(threshold=40)\n",
    "\n",
    "kpts = ff_detector.detect(img)\n",
    "\n",
    "img_out = cv2.cvtColor(img, cv2.COLOR_GRAY2RGB)\n",
    "# cv2.drawKeypoints(img, kpts, img_out)\n",
    "for kpt in kpts:\n",
    "    y = int(kpt.pt[1])\n",
    "    x = int(kpt.pt[0])\n",
    "    cv2.line(img_out, (x-5,y), (x+5,y), (255,0,0))\n",
    "    cv2.line(img_out, (x,y-5), (x,y+5), (255,0,0))\n",
    "\n",
    "plt.imshow(img_out)\n"
   ]
  },
  {
   "cell_type": "markdown",
   "metadata": {},
   "source": [
    "# 3.4 Harris Corner Detector"
   ]
  },
  {
   "cell_type": "code",
   "execution_count": null,
   "metadata": {},
   "outputs": [],
   "source": [
    "sigma = 3\n",
    "test = np.zeros((21, 21), dtype=np.float)\n",
    "test[11,11] = 1\n",
    "test_out = np.zeros((21, 21), dtype=np.float)\n",
    "\n",
    "test_out = gaussian_filter(test, sigma)\n",
    "\n",
    "imshow_with_colorbar(1, test_out)"
   ]
  },
  {
   "cell_type": "code",
   "execution_count": null,
   "metadata": {},
   "outputs": [],
   "source": [
    "def harris(im,sigma=3): # calculate Harris corner detector response function\n",
    "    img = im.astype(np.float)\n",
    "\n",
    "    # derivatives\n",
    "    imgx = gaussian_filter(img, (sigma,sigma), (0,1))\n",
    "    imgy = gaussian_filter(img, (sigma,sigma), (1,0))\n",
    "\n",
    "    # components of the Harris matrix\n",
    "    Wxx = gaussian_filter(imgx*imgx, sigma)\n",
    "    Wxy = gaussian_filter(imgx*imgy, sigma)\n",
    "    Wyy = gaussian_filter(imgy*imgy, sigma)\n",
    "\n",
    "    # determinant and trace\n",
    "    Wdet = Wxx*Wyy - Wxy**2\n",
    "    Wtr = Wxx + Wyy\n",
    "\n",
    "    return Wdet - 0.01 * Wtr * Wtr\n",
    "    # return Wdet / Wtr\n",
    "\n",
    "def harrisPoints(harrisim, min_dist=10, threshold=0.1):\n",
    "    # find top corner candidates\n",
    "    corner_threshold = harrisim.max() * threshold\n",
    "    harrisim_t = (harrisim > corner_threshold) * 1\n",
    "    \n",
    "    # get coordinates of candidates\n",
    "    coords = np.array(harrisim_t.nonzero()).T\n",
    "    \n",
    "    #get values of candidates\n",
    "    candidate_values = [harrisim[c[0],c[1]] for c in coords]\n",
    "    \n",
    "    # sort candidates\n",
    "    index = np.argsort(candidate_values)[::-1]\n",
    "    \n",
    "    # store allowed point locations in array\n",
    "    allowed_locations = np.zeros(harrisim.shape)\n",
    "    allowed_locations[min_dist:-min_dist,min_dist:-min_dist] = 1\n",
    "    \n",
    "    # select the best points using min_distance\n",
    "    filtered_coords = []\n",
    "    for i in index:\n",
    "        if allowed_locations[coords[i,0],coords[i,1]] == 1:\n",
    "            filtered_coords.append(coords[i])\n",
    "            allowed_locations[(coords[i,0]-min_dist):(coords[i,0]+min_dist),\n",
    "                        (coords[i,1]-min_dist):(coords[i,1]+min_dist)] = 0\n",
    "    \n",
    "    return filtered_coords"
   ]
  },
  {
   "cell_type": "code",
   "execution_count": null,
   "metadata": {
    "tags": []
   },
   "outputs": [],
   "source": [
    "img = cv2.imread('../images/lenna.png', cv2.IMREAD_GRAYSCALE)\n",
    "\n",
    "img_harris = harris(img)\n",
    "pts = harrisPoints(img_harris)\n",
    "\n",
    "img_out = cv2.cvtColor(img, cv2.COLOR_GRAY2RGB)\n",
    "\n",
    "for pt in pts:\n",
    "    y, x = pt[0], pt[1]\n",
    "    cv2.line(img_out, (x-5,y), (x+5,y), (255,0,0))\n",
    "    cv2.line(img_out, (x,y-5), (x,y+5), (255,0,0))\n",
    "\n",
    "imshow_with_colorbar(1, img_harris)\n",
    "imshow_with_colorbar(2, img_out)\n"
   ]
  },
  {
   "cell_type": "markdown",
   "metadata": {},
   "source": [
    "# 3.4 Feature matching process"
   ]
  },
  {
   "cell_type": "code",
   "execution_count": null,
   "metadata": {},
   "outputs": [],
   "source": [
    "img1 = cv2.imread('../images/curiosity_cut.jpg',cv2.IMREAD_GRAYSCALE)    # queryImage\n",
    "img2 = cv2.imread('../images/curiosity_marker.jpg',cv2.IMREAD_GRAYSCALE) # trainImage\n",
    "\n",
    "orb = cv2.ORB_create()\n",
    "\n",
    "kp1, des1 = orb.detectAndCompute(img1,None)\n",
    "kp2, des2 = orb.detectAndCompute(img2,None)\n",
    "\n",
    "bf = cv2.BFMatcher(cv2.NORM_HAMMING, crossCheck=True)\n",
    "\n",
    "matches = bf.match(des1,des2)\n",
    "\n",
    "matches = sorted(matches, key = lambda x:x.distance)\n",
    "img_match = cv2.drawMatches(img1,kp1,img2,kp2,matches[:10],None,flags=cv2.DrawMatchesFlags_NOT_DRAW_SINGLE_POINTS)\n",
    "\n",
    "plt.imshow(img_match)"
   ]
  }
 ]
}